{
  "nbformat": 4,
  "nbformat_minor": 0,
  "metadata": {
    "colab": {
      "provenance": [],
      "authorship_tag": "ABX9TyOf0LDawiK/pVOI2JEBiFOq",
      "include_colab_link": true
    },
    "kernelspec": {
      "name": "python3",
      "display_name": "Python 3"
    },
    "language_info": {
      "name": "python"
    }
  },
  "cells": [
    {
      "cell_type": "markdown",
      "metadata": {
        "id": "view-in-github",
        "colab_type": "text"
      },
      "source": [
        "<a href=\"https://colab.research.google.com/github/kelserkock/COMUNICA_TEA/blob/main/Respostas_autismo.ipynb\" target=\"_parent\"><img src=\"https://colab.research.google.com/assets/colab-badge.svg\" alt=\"Open In Colab\"/></a>"
      ]
    },
    {
      "cell_type": "markdown",
      "source": [
        "COMUNICA_TEA\n",
        "\n",
        "Para indivíduos no espectro autista, o uso de metáforas pode representar um desafio significativo devido à interpretação literal da linguagem e à dificuldade em compreender nuances sociais e culturais. Essa dificuldade pode impactar a comunicação e a interação social, tornando-os mais propensos a interpretar expressões não literais de forma confusa ou estranha.\n",
        "\n",
        "https://www.scielo.br/j/codas/a/3trwMMZmFTW77nZ7wqk89Kk/?lang=pt\n",
        "\n",
        "Por este motivo, este projeto auxilia o indivídio com o transtorno do espectro autista (TEA) a corrigir e transformar frases em exemplos formais e informais."
      ],
      "metadata": {
        "id": "KRK2-pI9ODgd"
      }
    },
    {
      "cell_type": "code",
      "source": [
        "from google.colab import userdata\n",
        "api=userdata.get('api')"
      ],
      "metadata": {
        "collapsed": true,
        "id": "X5NqrzgURtSf"
      },
      "execution_count": 20,
      "outputs": []
    },
    {
      "cell_type": "code",
      "source": [
        "!pip install -q -U google-generativeai"
      ],
      "metadata": {
        "id": "trInv4b4OG8K"
      },
      "execution_count": 16,
      "outputs": []
    },
    {
      "cell_type": "code",
      "source": [
        "import google.generativeai as genai\n",
        "\n",
        "genai.configure(api_key=api)\n",
        "\n",
        "# Set up the model\n",
        "generation_config = {\n",
        "  \"temperature\": 1,\n",
        "  \"top_p\": 0.5,\n",
        "  \"top_k\": 0,\n",
        "  \"max_output_tokens\": 2048,\n",
        "}\n",
        "\n",
        "safety_settings = [\n",
        "  {\n",
        "    \"category\": \"HARM_CATEGORY_HARASSMENT\",\n",
        "    \"threshold\": \"BLOCK_MEDIUM_AND_ABOVE\"\n",
        "  },\n",
        "  {\n",
        "    \"category\": \"HARM_CATEGORY_HATE_SPEECH\",\n",
        "    \"threshold\": \"BLOCK_MEDIUM_AND_ABOVE\"\n",
        "  },\n",
        "  {\n",
        "    \"category\": \"HARM_CATEGORY_SEXUALLY_EXPLICIT\",\n",
        "    \"threshold\": \"BLOCK_MEDIUM_AND_ABOVE\"\n",
        "  },\n",
        "  {\n",
        "    \"category\": \"HARM_CATEGORY_DANGEROUS_CONTENT\",\n",
        "    \"threshold\": \"BLOCK_MEDIUM_AND_ABOVE\"\n",
        "  },\n",
        "]\n",
        "\n",
        "model = genai.GenerativeModel(model_name=\"gemini-1.5-pro-latest\",\n",
        "                              generation_config=generation_config,\n",
        "                              safety_settings=safety_settings)\n",
        "\n",
        "convo = model.start_chat(history=[\n",
        "])\n",
        "\n",
        "frase = input(\"Escreva a frase: \")\n",
        "mensagem = frase + \" Corrija a frase e apresente (com frases curtas, sem exageros e tentando ser o mais fiel possível a mensagem original), neste ordem, 10 exemplos formais e 10 exemplos informais\"\n",
        "\n",
        "convo.send_message(mensagem)\n",
        "print(convo.last.text)"
      ],
      "metadata": {
        "colab": {
          "base_uri": "https://localhost:8080/",
          "height": 520
        },
        "id": "_jLxdqvn3NPT",
        "outputId": "6c972d66-8534-47cd-e1de-5bb0935f95c0"
      },
      "execution_count": 24,
      "outputs": [
        {
          "output_type": "stream",
          "name": "stdout",
          "text": [
            "Escreva a frase: voce quero cinema ir\n",
            "##  \"voce quero cinema ir\" - Correções e variações:\n",
            "\n",
            "**Formal:**\n",
            "\n",
            "1. Gostaria de ir ao cinema.\n",
            "2. Desejo ir ao cinema.\n",
            "3. Tenho interesse em ir ao cinema.\n",
            "4. Pretendo ir ao cinema.\n",
            "5. Seria ótimo irmos ao cinema.\n",
            "6. Que tal irmos ao cinema?\n",
            "7. O cinema me parece uma boa opção.\n",
            "8. Aceitaria ir ao cinema comigo?\n",
            "9. Vamos ao cinema?\n",
            "10.  Você gostaria de me acompanhar ao cinema?\n",
            "\n",
            "**Informal:**\n",
            "\n",
            "1. Bora pro cinema?\n",
            "2. Quero ir no cinema.\n",
            "3. Vamos no cinema?\n",
            "4. Topa ir no cinema?\n",
            "5. Cine hoje?\n",
            "6. Vamo assistir um filme?\n",
            "7. Que tal um cineminha?\n",
            "8. Rola ir pro cinema?\n",
            "9. Cinema, partiu?\n",
            "10.  Vamos ver um filme? \n",
            "\n"
          ]
        }
      ]
    }
  ]
}